{
  "nbformat": 4,
  "nbformat_minor": 0,
  "metadata": {
    "colab": {
      "name": "Act3_PIA_parte1_Equipo2.ipynb",
      "provenance": []
    },
    "kernelspec": {
      "name": "python3",
      "display_name": "Python 3"
    },
    "language_info": {
      "name": "python"
    }
  },
  "cells": [
    {
      "cell_type": "markdown",
      "source": [
        "#Actividad 3: Parte 1 del Proyecto Integrador de Aprendizaje\n",
        "Equipo No.2\n",
        "\n",
        "Integrantes:\n",
        "\n",
        "> Iran Alexandra Arevalo Rodriguez--------1942711\n",
        "\n",
        "> Marcela Morales Guzmán--------------------1853369\n",
        "\n",
        "> Teodoro D. A. Charles Maldonado-------1991867\n",
        "\n",
        "\n",
        "\n",
        "\n",
        "\n",
        "\n",
        "\n",
        "\n",
        "\n",
        "\n"
      ],
      "metadata": {
        "id": "NqZCHKmbBnmY"
      }
    },
    {
      "cell_type": "code",
      "source": [
        "#librerias\n",
        "import cv2\n",
        "import matplotlib.pyplot as plt\n",
        "import glob"
      ],
      "metadata": {
        "id": "14VqdZN0LUij"
      },
      "execution_count": null,
      "outputs": []
    },
    {
      "cell_type": "code",
      "source": [
        "#toma todas las imagenes de la carpeta, aplica resize y contraste.\n",
        "array_raw = []\n",
        "print(\"Total files before upload:\",len(array_raw))\n",
        "array_raw = [cv2.imread(file, cv2.IMREAD_GRAYSCALE) for file in glob.glob(\"/content/imgs/*.jp*g\")]\n",
        "#array_raw = [cv2.bitwise_not(file) for file in array_raw] # no se requiere, todas las imagenes son letra blanca y fondo negro\n",
        "print(\"Total files before resize:\",len(array_raw))\n",
        "#plt.imshow(array_raw[5], cmap='gray')\n",
        "array_resized = [cv2.resize(file, (28,28), interpolation=cv2.INTER_LINEAR) for file in array_raw]\n",
        "print(\"Total files after resize:\",len(array_resized))\n",
        "\n",
        "plt.imshow(array_resized[5], cmap='gray')"
      ],
      "metadata": {
        "colab": {
          "base_uri": "https://localhost:8080/",
          "height": 334
        },
        "id": "FmS4j3sBiCpE",
        "outputId": "1128ed22-b9a8-4f11-b85b-f4a75e079ea8"
      },
      "execution_count": null,
      "outputs": [
        {
          "output_type": "stream",
          "name": "stdout",
          "text": [
            "Total files before upload: 0\n",
            "Total files before resize: 300\n",
            "Total files after resize: 300\n"
          ]
        },
        {
          "output_type": "execute_result",
          "data": {
            "text/plain": [
              "<matplotlib.image.AxesImage at 0x7f2aa574fa50>"
            ]
          },
          "metadata": {},
          "execution_count": 40
        },
        {
          "output_type": "display_data",
          "data": {
            "text/plain": [
              "<Figure size 432x288 with 1 Axes>"
            ],
            "image/png": "[encoded data removed]"
          },
          "metadata": {
            "needs_background": "light"
          }
        }
      ]
    },
    {
      "cell_type": "code",
      "source": [
        "plt.imshow(array_resized[107], cmap='gray')"
      ],
      "metadata": {
        "colab": {
          "base_uri": "https://localhost:8080/",
          "height": 282
        },
        "id": "I7RkpP4MHWBW",
        "outputId": "66182ca4-1602-46a0-bea9-30273fe320a6"
      },
      "execution_count": null,
      "outputs": [
        {
          "output_type": "execute_result",
          "data": {
            "text/plain": [
              "<matplotlib.image.AxesImage at 0x7f2aa5c7a990>"
            ]
          },
          "metadata": {},
          "execution_count": 24
        },
        {
          "output_type": "display_data",
          "data": {
            "text/plain": [
              "<Figure size 432x288 with 1 Axes>"
            ],
            "image/png": "[encoded data removed]"
          },
          "metadata": {
            "needs_background": "light"
          }
        }
      ]
    },
    {
      "cell_type": "code",
      "source": [
        "plt.imshow(array_resized[204], cmap='gray')"
      ],
      "metadata": {
        "colab": {
          "base_uri": "https://localhost:8080/",
          "height": 282
        },
        "id": "DmLwIseTHZ0n",
        "outputId": "48724a55-eb1d-427f-ad27-226ef5f350d6"
      },
      "execution_count": null,
      "outputs": [
        {
          "output_type": "execute_result",
          "data": {
            "text/plain": [
              "<matplotlib.image.AxesImage at 0x7f2aa5b1c7d0>"
            ]
          },
          "metadata": {},
          "execution_count": 25
        },
        {
          "output_type": "display_data",
          "data": {
            "text/plain": [
              "<Figure size 432x288 with 1 Axes>"
            ],
            "image/png": "[encoded data removed]"
          },
          "metadata": {
            "needs_background": "light"
          }
        }
      ]
    }
  ]
}