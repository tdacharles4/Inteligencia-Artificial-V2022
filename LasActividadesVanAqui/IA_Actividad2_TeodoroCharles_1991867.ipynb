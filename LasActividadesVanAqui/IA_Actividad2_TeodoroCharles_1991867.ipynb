{
  "nbformat": 4,
  "nbformat_minor": 0,
  "metadata": {
    "colab": {
      "name": "A2_EjerciciosPython_1991867.ipynb",
      "provenance": [],
      "collapsed_sections": []
    },
    "kernelspec": {
      "name": "python3",
      "display_name": "Python 3"
    },
    "language_info": {
      "name": "python"
    }
  },
  "cells": [
    {
      "cell_type": "markdown",
      "source": [
        "**********************************\n",
        "# **Actividad 2.- Ejercicios en Python**\n",
        "**********************************"
      ],
      "metadata": {
        "id": "y3WTccDHW2WF"
      }
    },
    {
      "cell_type": "markdown",
      "source": [
        "\n",
        "\n",
        "> Teodoro D. A. Charles M.\n",
        "\n",
        "> 1991867\n",
        "\n",
        "> IA N4\n",
        "\n",
        "\n",
        "\n",
        "\n",
        "\n",
        "\n",
        "\n",
        "\n"
      ],
      "metadata": {
        "id": "3wzHyknSX-HZ"
      }
    },
    {
      "cell_type": "markdown",
      "source": [
        "Ejercicio 1.- Escribir un programa que le pida al usuario por su nombre y que lo salude con su nombre, excepto si se llama \"Ana\", \"Juan\", y \"Pedro\"."
      ],
      "metadata": {
        "id": "xCOBFXE1X2Km"
      }
    },
    {
      "cell_type": "code",
      "source": [
        "nombre = input('¿Cuál es tu nombre?\\n')                         #Imprime la pregunta y procede a pedirle su nombre al usuario\n",
        "if nombre in ['Ana', 'ana', 'Juan', 'juan', 'Pedro', 'pedro']: #Descarta los nombres requeridos\n",
        "  print(\"Ok.\")\n",
        "else:\n",
        "  print(\"Tu nombre es:\",nombre)                                #Imprime el nombre ingresado si no es de los de la lista."
      ],
      "metadata": {
        "colab": {
          "base_uri": "https://localhost:8080/"
        },
        "id": "Vrg2EHtYYa8u",
        "outputId": "8d7d8220-822d-4e66-99fe-e11f50cbe9bb"
      },
      "execution_count": null,
      "outputs": [
        {
          "output_type": "stream",
          "name": "stdout",
          "text": [
            "¿Cuál es tu nombre?\n",
            "ana\n",
            "Ok.\n"
          ]
        }
      ]
    },
    {
      "cell_type": "markdown",
      "source": [
        "Ejercicio 2.- Escribir una función que regrese el último elemento de una lista y que revierta el orden de la lista e imprima la lista revertida."
      ],
      "metadata": {
        "id": "YKRYltfbbijt"
      }
    },
    {
      "cell_type": "code",
      "source": [
        "def reverselist(lista):                                   # Se define la funcion reverselist\n",
        "  last = len(lista)-1                                    # Encuentra el numero correspondiente al ultimo elemento, restandole 1 a la longitud de la lista\n",
        "  print(\"Ultimo elemento de la lista: \",lista[last])\n",
        "  lista.reverse()                                         # Revierte el orden de la lista sin importar su longitud\n",
        "  print(\"\\nAsi se ve la lista revertida:\")\n",
        "  print(lista)\n",
        "\n",
        "lista_user = [\"Esta\", \"lista\", \"no\", \"esta\", \"al\", \"reves\"] # El usuario define la lista aqui\n",
        "reverselist(lista_user)                                     # Se corre la funcion con la lista previamente definida"
      ],
      "metadata": {
        "colab": {
          "base_uri": "https://localhost:8080/"
        },
        "id": "EFDm3-zib4uZ",
        "outputId": "76e870b2-60f9-4ba6-90ab-d226d71a7d60"
      },
      "execution_count": 5,
      "outputs": [
        {
          "output_type": "stream",
          "name": "stdout",
          "text": [
            "Ultimo elemento de la lista:  reves\n",
            "\n",
            "Asi se ve la lista revertida:\n",
            "['reves', 'al', 'esta', 'no', 'lista', 'Esta']\n"
          ]
        }
      ]
    },
    {
      "cell_type": "markdown",
      "source": [
        "Ejercicio 3.- Escribir una función que toma una lista de strings y los imprima línea por línea en un marco rectangular."
      ],
      "metadata": {
        "id": "v1xjZDwjgNTn"
      }
    },
    {
      "cell_type": "code",
      "source": [
        "lista = [\"Esta\", \"lista\", \"tiene\", \"un\", \"marco\"]\n",
        "n = len(lista)-1\n",
        "print(\"***********\")                                 # Marco superior\n",
        "for n in lista:                                     # Inicia el loop for basado en n\n",
        "  print(f\"* {n}    *\")                              # Se imprime cada valor independiente de la lista, con un marco.\n",
        "print(\"***********\")                                  # Marco inferior"
      ],
      "metadata": {
        "colab": {
          "base_uri": "https://localhost:8080/"
        },
        "id": "WUU75mbggmTJ",
        "outputId": "b20fa395-32f2-4fc9-af59-0f32e352509e"
      },
      "execution_count": null,
      "outputs": [
        {
          "output_type": "stream",
          "name": "stdout",
          "text": [
            "***********\n",
            "* Esta    *\n",
            "* lista    *\n",
            "* tiene    *\n",
            "* un    *\n",
            "* marco    *\n",
            "***********\n"
          ]
        }
      ]
    }
  ]
}